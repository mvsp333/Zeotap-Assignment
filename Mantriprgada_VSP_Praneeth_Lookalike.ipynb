{
  "nbformat": 4,
  "nbformat_minor": 0,
  "metadata": {
    "colab": {
      "provenance": []
    },
    "kernelspec": {
      "name": "python3",
      "display_name": "Python 3"
    },
    "language_info": {
      "name": "python"
    }
  },
  "cells": [
    {
      "cell_type": "code",
      "execution_count": 1,
      "metadata": {
        "id": "0mMLNxb0_aMx"
      },
      "outputs": [],
      "source": [
        "import pandas as pd\n",
        "import numpy as np\n",
        "from sklearn.metrics.pairwise import cosine_similarity\n",
        "from sklearn.preprocessing import StandardScaler\n",
        "\n"
      ]
    },
    {
      "cell_type": "code",
      "source": [
        "# Load datasets (update paths as needed)\n",
        "customers_path = \"Customers.csv\"\n",
        "products_path = \"Products.csv\"\n",
        "transactions_path = \"Transactions.csv\"\n",
        "\n",
        "customers = pd.read_csv(customers_path)\n",
        "products = pd.read_csv(products_path)\n",
        "transactions = pd.read_csv(transactions_path)\n",
        "\n",
        "# Merge datasets for analysis\n",
        "data = transactions.merge(customers, on='CustomerID', how='left')\n",
        "data = data.merge(products, on='ProductID', how='left')\n",
        "\n"
      ],
      "metadata": {
        "id": "sgd8gsUC_s88"
      },
      "execution_count": 2,
      "outputs": []
    },
    {
      "cell_type": "code",
      "source": [
        "# Preprocess data for lookalike modeling\n",
        "# Aggregate transaction data by customer\n",
        "data['TransactionDate'] = pd.to_datetime(data['TransactionDate'])\n",
        "customer_summary = data.groupby('CustomerID').agg({\n",
        "    'TotalValue': 'sum',\n",
        "    'Quantity': 'sum',\n",
        "    'TransactionID': 'count',\n",
        "    'Price_x': 'mean'\n",
        "}).rename(columns={\n",
        "    'TotalValue': 'TotalSpent',\n",
        "    'Quantity': 'TotalQuantity',\n",
        "    'TransactionID': 'TransactionCount',\n",
        "    'Price_x': 'AveragePrice'\n",
        "})\n",
        "\n",
        "# Merge customer profile data\n",
        "customer_features = customers.merge(customer_summary, on='CustomerID', how='left')\n",
        "customer_features.fillna(0, inplace=True)\n",
        "\n"
      ],
      "metadata": {
        "id": "jqZqGkFV_s_Q"
      },
      "execution_count": 3,
      "outputs": []
    },
    {
      "cell_type": "code",
      "source": [
        "# Normalize features\n",
        "scaler = StandardScaler()\n",
        "numeric_features = ['TotalSpent', 'TotalQuantity', 'TransactionCount', 'AveragePrice']\n",
        "customer_features_scaled = scaler.fit_transform(customer_features[numeric_features])\n",
        "\n",
        "# Compute similarity matrix\n",
        "similarity_matrix = cosine_similarity(customer_features_scaled)\n",
        "similarity_df = pd.DataFrame(similarity_matrix, index=customer_features['CustomerID'], columns=customer_features['CustomerID'])\n",
        "\n",
        "# Get top 3 lookalike customers for first 20 customers\n",
        "lookalike_results = {}\n",
        "for customer_id in customer_features['CustomerID'][:20]:\n",
        "    similar_customers = similarity_df[customer_id].sort_values(ascending=False)[1:4]  # Exclude the customer themselves\n",
        "    lookalike_results[customer_id] = similar_customers.reset_index().values.tolist()\n",
        "\n"
      ],
      "metadata": {
        "id": "JV4f1aRq_tER"
      },
      "execution_count": 4,
      "outputs": []
    },
    {
      "cell_type": "code",
      "source": [
        "# Save lookalike results to CSV\n",
        "lookalike_path = \"Lookalike.csv\"\n",
        "with open(lookalike_path, 'w') as f:\n",
        "    f.write(\"CustomerID,Lookalikes\\n\")\n",
        "    for customer_id, lookalikes in lookalike_results.items():\n",
        "        lookalike_str = \";\".join([f\"{cust_id}:{score:.4f}\" for cust_id, score in lookalikes])  # Treat CustomerID as string\n",
        "        f.write(f\"{customer_id},{lookalike_str}\\n\")\n",
        "\n",
        "print(f\"Lookalike results saved to {lookalike_path}\")\n"
      ],
      "metadata": {
        "colab": {
          "base_uri": "https://localhost:8080/"
        },
        "id": "IgFX-AUd_tGe",
        "outputId": "e707de11-ae24-4633-a400-86350e82bb13"
      },
      "execution_count": 5,
      "outputs": [
        {
          "output_type": "stream",
          "name": "stdout",
          "text": [
            "Lookalike results saved to Lookalike.csv\n"
          ]
        }
      ]
    },
    {
      "cell_type": "code",
      "source": [],
      "metadata": {
        "id": "emAGVazN_4fS"
      },
      "execution_count": null,
      "outputs": []
    }
  ]
}